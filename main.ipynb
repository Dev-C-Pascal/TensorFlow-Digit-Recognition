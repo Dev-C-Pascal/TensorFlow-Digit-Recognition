{
 "cells": [
  {
   "cell_type": "code",
   "execution_count": 285,
   "outputs": [],
   "source": [
    "from torchvision import datasets\n",
    "from torchvision.transforms import ToTensor"
   ],
   "metadata": {
    "collapsed": false,
    "ExecuteTime": {
     "end_time": "2024-03-28T10:12:38.761613Z",
     "start_time": "2024-03-28T10:12:38.758245Z"
    }
   },
   "id": "3e234b85fecb7901"
  },
  {
   "cell_type": "code",
   "execution_count": 286,
   "outputs": [
    {
     "name": "stdout",
     "output_type": "stream",
     "text": [
      "Downloading http://yann.lecun.com/exdb/mnist/train-images-idx3-ubyte.gz\n",
      "Downloading http://yann.lecun.com/exdb/mnist/train-images-idx3-ubyte.gz to data/MNIST/raw/train-images-idx3-ubyte.gz\n"
     ]
    },
    {
     "name": "stderr",
     "output_type": "stream",
     "text": [
      "100%|██████████| 9912422/9912422 [00:01<00:00, 6908425.22it/s]\n"
     ]
    },
    {
     "name": "stdout",
     "output_type": "stream",
     "text": [
      "Extracting data/MNIST/raw/train-images-idx3-ubyte.gz to data/MNIST/raw\n",
      "\n",
      "Downloading http://yann.lecun.com/exdb/mnist/train-labels-idx1-ubyte.gz\n",
      "Downloading http://yann.lecun.com/exdb/mnist/train-labels-idx1-ubyte.gz to data/MNIST/raw/train-labels-idx1-ubyte.gz\n"
     ]
    },
    {
     "name": "stderr",
     "output_type": "stream",
     "text": [
      "100%|██████████| 28881/28881 [00:00<00:00, 6830703.38it/s]\n"
     ]
    },
    {
     "name": "stdout",
     "output_type": "stream",
     "text": [
      "Extracting data/MNIST/raw/train-labels-idx1-ubyte.gz to data/MNIST/raw\n",
      "\n",
      "Downloading http://yann.lecun.com/exdb/mnist/t10k-images-idx3-ubyte.gz\n",
      "Downloading http://yann.lecun.com/exdb/mnist/t10k-images-idx3-ubyte.gz to data/MNIST/raw/t10k-images-idx3-ubyte.gz\n"
     ]
    },
    {
     "name": "stderr",
     "output_type": "stream",
     "text": [
      "100%|██████████| 1648877/1648877 [00:00<00:00, 5028978.45it/s]\n"
     ]
    },
    {
     "name": "stdout",
     "output_type": "stream",
     "text": [
      "Extracting data/MNIST/raw/t10k-images-idx3-ubyte.gz to data/MNIST/raw\n",
      "\n",
      "Downloading http://yann.lecun.com/exdb/mnist/t10k-labels-idx1-ubyte.gz\n",
      "Downloading http://yann.lecun.com/exdb/mnist/t10k-labels-idx1-ubyte.gz to data/MNIST/raw/t10k-labels-idx1-ubyte.gz\n"
     ]
    },
    {
     "name": "stderr",
     "output_type": "stream",
     "text": [
      "100%|██████████| 4542/4542 [00:00<00:00, 14410384.85it/s]\n"
     ]
    },
    {
     "name": "stdout",
     "output_type": "stream",
     "text": [
      "Extracting data/MNIST/raw/t10k-labels-idx1-ubyte.gz to data/MNIST/raw\n"
     ]
    }
   ],
   "source": [
    "train_data = datasets.MNIST(\n",
    "    root='data',\n",
    "    train=True,\n",
    "    transform=ToTensor(),\n",
    "    download=True\n",
    ")\n",
    "\n",
    "test_data = datasets.MNIST(\n",
    "    root='data',\n",
    "    train=False,\n",
    "    transform=ToTensor(),\n",
    "    download=True\n",
    ")"
   ],
   "metadata": {
    "collapsed": false,
    "ExecuteTime": {
     "end_time": "2024-03-28T10:12:43.109766Z",
     "start_time": "2024-03-28T10:12:40.005954Z"
    }
   },
   "id": "13408efe08db52d2"
  },
  {
   "cell_type": "code",
   "execution_count": 287,
   "outputs": [],
   "source": [
    "from torch.utils.data import DataLoader\n",
    "\n",
    "loaders = {\n",
    "    'train': DataLoader(\n",
    "        train_data,\n",
    "        batch_size=100,\n",
    "        shuffle=True,\n",
    "        num_workers=1),\n",
    "\n",
    "    'test_loader': DataLoader(\n",
    "        test_data,\n",
    "        batch_size=100,\n",
    "        shuffle=True,\n",
    "        num_workers=1),\n",
    "}"
   ],
   "metadata": {
    "collapsed": false,
    "ExecuteTime": {
     "end_time": "2024-03-28T10:13:44.888234Z",
     "start_time": "2024-03-28T10:13:44.886447Z"
    }
   },
   "id": "4ee16cba7309aa41"
  },
  {
   "cell_type": "code",
   "execution_count": 288,
   "outputs": [],
   "source": [
    "import torch.nn as nn\n",
    "import torch.nn.functional as F\n",
    "import torch.optim as optim\n",
    "\n",
    "\n",
    "class CNN(nn.Module):\n",
    "    def __init__(self):\n",
    "        super(CNN, self).__init__()\n",
    "\n",
    "        self.conv1 = nn.Conv2d(1, 10, kernel_size=5)\n",
    "        self.conv2 = nn.Conv2d(10, 20, kernel_size=5)\n",
    "        self.conv2_drop = nn.Dropout2d()\n",
    "\n",
    "        self.fc1 = nn.Linear(320, 50)\n",
    "        self.fc2 = nn.Linear(50, 10)\n",
    "\n",
    "    def forward(self, x):\n",
    "        x = F.relu(F.max_pool2d(self.conv1(x), 2))\n",
    "        x = F.relu(F.max_pool2d(self.conv2_drop(self.conv2(x)), 2))\n",
    "        x = x.view(-1, 320)\n",
    "        x = F.relu(self.fc1(x))\n",
    "        x = F.dropout(x, training=self.training)\n",
    "\n",
    "        return F.softmax(x)"
   ],
   "metadata": {
    "collapsed": false,
    "ExecuteTime": {
     "end_time": "2024-03-28T10:13:46.541191Z",
     "start_time": "2024-03-28T10:13:46.536997Z"
    }
   },
   "id": "c76bf77da7bda54a"
  },
  {
   "cell_type": "markdown",
   "source": [],
   "metadata": {
    "collapsed": false
   },
   "id": "c000f6a0f86d6806"
  },
  {
   "cell_type": "code",
   "execution_count": 289,
   "outputs": [],
   "source": [
    "import torch\n",
    "\n",
    "device = torch.device('cuda' if torch.cuda.is_available() else 'cpu')\n",
    "\n",
    "model = CNN().to(device)\n",
    "\n",
    "optimizer = optim.Adam(model.parameters(), lr=0.001)\n",
    "\n",
    "loss_fn = nn.CrossEntropyLoss()\n",
    "\n",
    "\n",
    "def train(e):  #epoch\n",
    "    model.train()\n",
    "    for batch_idx, (data, target) in enumerate(loaders['train']):\n",
    "        data, target = data.to(device), target.to(device)\n",
    "        optimizer.zero_grad()\n",
    "        output = model(data)\n",
    "        loss = loss_fn(output, target)\n",
    "        loss.backward()\n",
    "        optimizer.step()\n",
    "        if batch_idx % 20 == 0:\n",
    "            print(\n",
    "                f'Train epoch {e} [{batch_idx * len(data)}/{len(loaders[\"train\"].dataset)}  ({100. * batch_idx / len(loaders[\"train\"]):.0f}%)]\\t{loss.item():.6f}')\n",
    "\n",
    "\n",
    "def test():\n",
    "    model.eval()\n",
    "    test_loss = 0\n",
    "    correct = 0\n",
    "    with torch.no_grad():\n",
    "        for data, target in loaders['test']:\n",
    "            data, target = data.to(device), target.to(device)\n",
    "            output = model(data)\n",
    "            test_loss += loss_fn(output, target).item()\n",
    "            pred = output.argmax(dim=1, keepdim=True)\n",
    "            correct += pred.eq(target.view_as(pred)).sum().item()\n",
    "\n",
    "    test_loss /= len(loaders['test'].dataset)\n",
    "    print(\n",
    "        f'\\nTest set: Average loss: {test_loss:.4f}, Accuracy {correct}/{len(loaders[\"test\"].dataset)} ({100. * correct / len(loaders[\"test\"].dataset):.0f}%\\n)')"
   ],
   "metadata": {
    "collapsed": false,
    "ExecuteTime": {
     "end_time": "2024-03-28T10:13:48.588123Z",
     "start_time": "2024-03-28T10:13:48.561656Z"
    }
   },
   "id": "5ee87126a14f1fb1"
  },
  {
   "cell_type": "code",
   "execution_count": 290,
   "outputs": [
    {
     "name": "stderr",
     "output_type": "stream",
     "text": [
      "/var/folders/cn/pbbb97x54y9cd1y670hyldq00000gn/T/ipykernel_48796/114032758.py:24: UserWarning: Implicit dimension choice for softmax has been deprecated. Change the call to include dim=X as an argument.\n",
      "  return F.softmax(x)\n"
     ]
    },
    {
     "name": "stdout",
     "output_type": "stream",
     "text": [
      "Train epoch 1 [0/60000  (0%)]\t3.911411\n",
      "Train epoch 1 [2000/60000  (3%)]\t3.814650\n",
      "Train epoch 1 [4000/60000  (7%)]\t3.741551\n",
      "Train epoch 1 [6000/60000  (10%)]\t3.652132\n",
      "Train epoch 1 [8000/60000  (13%)]\t3.710813\n",
      "Train epoch 1 [10000/60000  (17%)]\t3.589747\n",
      "Train epoch 1 [12000/60000  (20%)]\t3.576722\n",
      "Train epoch 1 [14000/60000  (23%)]\t3.538200\n",
      "Train epoch 1 [16000/60000  (27%)]\t3.543557\n",
      "Train epoch 1 [18000/60000  (30%)]\t3.514244\n",
      "Train epoch 1 [20000/60000  (33%)]\t3.553155\n",
      "Train epoch 1 [22000/60000  (37%)]\t3.551398\n",
      "Train epoch 1 [24000/60000  (40%)]\t3.594995\n",
      "Train epoch 1 [26000/60000  (43%)]\t3.510008\n",
      "Train epoch 1 [28000/60000  (47%)]\t3.532353\n",
      "Train epoch 1 [30000/60000  (50%)]\t3.583658\n",
      "Train epoch 1 [32000/60000  (53%)]\t3.498607\n",
      "Train epoch 1 [34000/60000  (57%)]\t3.548115\n",
      "Train epoch 1 [36000/60000  (60%)]\t3.500253\n",
      "Train epoch 1 [38000/60000  (63%)]\t3.466285\n",
      "Train epoch 1 [40000/60000  (67%)]\t3.459991\n",
      "Train epoch 1 [42000/60000  (70%)]\t3.499145\n",
      "Train epoch 1 [44000/60000  (73%)]\t3.505238\n",
      "Train epoch 1 [46000/60000  (77%)]\t3.478607\n",
      "Train epoch 1 [48000/60000  (80%)]\t3.469654\n",
      "Train epoch 1 [50000/60000  (83%)]\t3.536032\n",
      "Train epoch 1 [52000/60000  (87%)]\t3.471800\n",
      "Train epoch 1 [54000/60000  (90%)]\t3.543808\n",
      "Train epoch 1 [56000/60000  (93%)]\t3.489633\n",
      "Train epoch 1 [58000/60000  (97%)]\t3.571103\n",
      "Train epoch 2 [0/60000  (0%)]\t3.523487\n",
      "Train epoch 2 [2000/60000  (3%)]\t3.436414\n",
      "Train epoch 2 [4000/60000  (7%)]\t3.529074\n",
      "Train epoch 2 [6000/60000  (10%)]\t3.484967\n",
      "Train epoch 2 [8000/60000  (13%)]\t3.547272\n",
      "Train epoch 2 [10000/60000  (17%)]\t3.527344\n",
      "Train epoch 2 [12000/60000  (20%)]\t3.466051\n",
      "Train epoch 2 [14000/60000  (23%)]\t3.527744\n",
      "Train epoch 2 [16000/60000  (27%)]\t3.584574\n",
      "Train epoch 2 [18000/60000  (30%)]\t3.488775\n",
      "Train epoch 2 [20000/60000  (33%)]\t3.435893\n",
      "Train epoch 2 [22000/60000  (37%)]\t3.460015\n",
      "Train epoch 2 [24000/60000  (40%)]\t3.545892\n",
      "Train epoch 2 [26000/60000  (43%)]\t3.477990\n",
      "Train epoch 2 [28000/60000  (47%)]\t3.549798\n",
      "Train epoch 2 [30000/60000  (50%)]\t3.587332\n",
      "Train epoch 2 [32000/60000  (53%)]\t3.523593\n",
      "Train epoch 2 [34000/60000  (57%)]\t3.509130\n",
      "Train epoch 2 [36000/60000  (60%)]\t3.505277\n",
      "Train epoch 2 [38000/60000  (63%)]\t3.449767\n",
      "Train epoch 2 [40000/60000  (67%)]\t3.625113\n",
      "Train epoch 2 [42000/60000  (70%)]\t3.574381\n",
      "Train epoch 2 [44000/60000  (73%)]\t3.566041\n",
      "Train epoch 2 [46000/60000  (77%)]\t3.434180\n",
      "Train epoch 2 [48000/60000  (80%)]\t3.502413\n",
      "Train epoch 2 [50000/60000  (83%)]\t3.473625\n",
      "Train epoch 2 [52000/60000  (87%)]\t3.432958\n",
      "Train epoch 2 [54000/60000  (90%)]\t3.526213\n",
      "Train epoch 2 [56000/60000  (93%)]\t3.451209\n",
      "Train epoch 2 [58000/60000  (97%)]\t3.610170\n",
      "Train epoch 3 [0/60000  (0%)]\t3.588841\n",
      "Train epoch 3 [2000/60000  (3%)]\t3.569165\n",
      "Train epoch 3 [4000/60000  (7%)]\t3.551589\n",
      "Train epoch 3 [6000/60000  (10%)]\t3.539526\n",
      "Train epoch 3 [8000/60000  (13%)]\t3.398657\n",
      "Train epoch 3 [10000/60000  (17%)]\t3.536062\n",
      "Train epoch 3 [12000/60000  (20%)]\t3.508840\n",
      "Train epoch 3 [14000/60000  (23%)]\t3.448178\n",
      "Train epoch 3 [16000/60000  (27%)]\t3.462357\n",
      "Train epoch 3 [18000/60000  (30%)]\t3.524542\n",
      "Train epoch 3 [20000/60000  (33%)]\t3.489048\n",
      "Train epoch 3 [22000/60000  (37%)]\t3.574457\n",
      "Train epoch 3 [24000/60000  (40%)]\t3.566945\n",
      "Train epoch 3 [26000/60000  (43%)]\t3.536194\n",
      "Train epoch 3 [28000/60000  (47%)]\t3.558035\n",
      "Train epoch 3 [30000/60000  (50%)]\t3.515105\n",
      "Train epoch 3 [32000/60000  (53%)]\t3.487401\n",
      "Train epoch 3 [34000/60000  (57%)]\t3.564011\n",
      "Train epoch 3 [36000/60000  (60%)]\t3.478555\n",
      "Train epoch 3 [38000/60000  (63%)]\t3.468354\n",
      "Train epoch 3 [40000/60000  (67%)]\t3.428158\n",
      "Train epoch 3 [42000/60000  (70%)]\t3.505034\n",
      "Train epoch 3 [44000/60000  (73%)]\t3.547214\n",
      "Train epoch 3 [46000/60000  (77%)]\t3.400111\n",
      "Train epoch 3 [48000/60000  (80%)]\t3.526289\n",
      "Train epoch 3 [50000/60000  (83%)]\t3.484346\n",
      "Train epoch 3 [52000/60000  (87%)]\t3.556338\n",
      "Train epoch 3 [54000/60000  (90%)]\t3.479371\n",
      "Train epoch 3 [56000/60000  (93%)]\t3.484003\n",
      "Train epoch 3 [58000/60000  (97%)]\t3.496731\n",
      "Train epoch 4 [0/60000  (0%)]\t3.446553\n",
      "Train epoch 4 [2000/60000  (3%)]\t3.559429\n",
      "Train epoch 4 [4000/60000  (7%)]\t3.422065\n",
      "Train epoch 4 [6000/60000  (10%)]\t3.533899\n",
      "Train epoch 4 [8000/60000  (13%)]\t3.522866\n",
      "Train epoch 4 [10000/60000  (17%)]\t3.498353\n",
      "Train epoch 4 [12000/60000  (20%)]\t3.453033\n",
      "Train epoch 4 [14000/60000  (23%)]\t3.541683\n",
      "Train epoch 4 [16000/60000  (27%)]\t3.541556\n",
      "Train epoch 4 [18000/60000  (30%)]\t3.409163\n",
      "Train epoch 4 [20000/60000  (33%)]\t3.564618\n",
      "Train epoch 4 [22000/60000  (37%)]\t3.456627\n",
      "Train epoch 4 [24000/60000  (40%)]\t3.517008\n",
      "Train epoch 4 [26000/60000  (43%)]\t3.552067\n",
      "Train epoch 4 [28000/60000  (47%)]\t3.465754\n",
      "Train epoch 4 [30000/60000  (50%)]\t3.418301\n",
      "Train epoch 4 [32000/60000  (53%)]\t3.517410\n",
      "Train epoch 4 [34000/60000  (57%)]\t3.542675\n",
      "Train epoch 4 [36000/60000  (60%)]\t3.513033\n",
      "Train epoch 4 [38000/60000  (63%)]\t3.495650\n",
      "Train epoch 4 [40000/60000  (67%)]\t3.473599\n",
      "Train epoch 4 [42000/60000  (70%)]\t3.529404\n",
      "Train epoch 4 [44000/60000  (73%)]\t3.495348\n",
      "Train epoch 4 [46000/60000  (77%)]\t3.485824\n",
      "Train epoch 4 [48000/60000  (80%)]\t3.523473\n",
      "Train epoch 4 [50000/60000  (83%)]\t3.478983\n",
      "Train epoch 4 [52000/60000  (87%)]\t3.513244\n",
      "Train epoch 4 [54000/60000  (90%)]\t3.445527\n",
      "Train epoch 4 [56000/60000  (93%)]\t3.503521\n",
      "Train epoch 4 [58000/60000  (97%)]\t3.475750\n",
      "Train epoch 5 [0/60000  (0%)]\t3.590186\n",
      "Train epoch 5 [2000/60000  (3%)]\t3.507124\n",
      "Train epoch 5 [4000/60000  (7%)]\t3.521614\n",
      "Train epoch 5 [6000/60000  (10%)]\t3.528607\n",
      "Train epoch 5 [8000/60000  (13%)]\t3.489749\n",
      "Train epoch 5 [10000/60000  (17%)]\t3.492777\n",
      "Train epoch 5 [12000/60000  (20%)]\t3.495619\n",
      "Train epoch 5 [14000/60000  (23%)]\t3.534865\n",
      "Train epoch 5 [16000/60000  (27%)]\t3.498926\n",
      "Train epoch 5 [18000/60000  (30%)]\t3.549860\n",
      "Train epoch 5 [20000/60000  (33%)]\t3.560861\n",
      "Train epoch 5 [22000/60000  (37%)]\t3.522550\n",
      "Train epoch 5 [24000/60000  (40%)]\t3.600905\n",
      "Train epoch 5 [26000/60000  (43%)]\t3.409341\n",
      "Train epoch 5 [28000/60000  (47%)]\t3.560542\n",
      "Train epoch 5 [30000/60000  (50%)]\t3.502759\n",
      "Train epoch 5 [32000/60000  (53%)]\t3.385631\n",
      "Train epoch 5 [34000/60000  (57%)]\t3.518869\n",
      "Train epoch 5 [36000/60000  (60%)]\t3.543698\n",
      "Train epoch 5 [38000/60000  (63%)]\t3.482181\n",
      "Train epoch 5 [40000/60000  (67%)]\t3.505690\n",
      "Train epoch 5 [42000/60000  (70%)]\t3.433639\n",
      "Train epoch 5 [44000/60000  (73%)]\t3.540500\n",
      "Train epoch 5 [46000/60000  (77%)]\t3.443405\n",
      "Train epoch 5 [48000/60000  (80%)]\t3.529677\n",
      "Train epoch 5 [50000/60000  (83%)]\t3.468877\n",
      "Train epoch 5 [52000/60000  (87%)]\t3.540325\n",
      "Train epoch 5 [54000/60000  (90%)]\t3.524359\n",
      "Train epoch 5 [56000/60000  (93%)]\t3.597541\n",
      "Train epoch 5 [58000/60000  (97%)]\t3.540040\n",
      "Train epoch 6 [0/60000  (0%)]\t3.509845\n",
      "Train epoch 6 [2000/60000  (3%)]\t3.541986\n",
      "Train epoch 6 [4000/60000  (7%)]\t3.522671\n",
      "Train epoch 6 [6000/60000  (10%)]\t3.450801\n",
      "Train epoch 6 [8000/60000  (13%)]\t3.534560\n",
      "Train epoch 6 [10000/60000  (17%)]\t3.482206\n",
      "Train epoch 6 [12000/60000  (20%)]\t3.535035\n",
      "Train epoch 6 [14000/60000  (23%)]\t3.464128\n",
      "Train epoch 6 [16000/60000  (27%)]\t3.492336\n",
      "Train epoch 6 [18000/60000  (30%)]\t3.523016\n",
      "Train epoch 6 [20000/60000  (33%)]\t3.501955\n",
      "Train epoch 6 [22000/60000  (37%)]\t3.463829\n",
      "Train epoch 6 [24000/60000  (40%)]\t3.529750\n",
      "Train epoch 6 [26000/60000  (43%)]\t3.500062\n",
      "Train epoch 6 [28000/60000  (47%)]\t3.395169\n",
      "Train epoch 6 [30000/60000  (50%)]\t3.570762\n",
      "Train epoch 6 [32000/60000  (53%)]\t3.459172\n",
      "Train epoch 6 [34000/60000  (57%)]\t3.525947\n",
      "Train epoch 6 [36000/60000  (60%)]\t3.452146\n",
      "Train epoch 6 [38000/60000  (63%)]\t3.433521\n",
      "Train epoch 6 [40000/60000  (67%)]\t3.440488\n",
      "Train epoch 6 [42000/60000  (70%)]\t3.443944\n",
      "Train epoch 6 [44000/60000  (73%)]\t3.444107\n",
      "Train epoch 6 [46000/60000  (77%)]\t3.499740\n",
      "Train epoch 6 [48000/60000  (80%)]\t3.544074\n",
      "Train epoch 6 [50000/60000  (83%)]\t3.511498\n",
      "Train epoch 6 [52000/60000  (87%)]\t3.472681\n",
      "Train epoch 6 [54000/60000  (90%)]\t3.548777\n",
      "Train epoch 6 [56000/60000  (93%)]\t3.499123\n",
      "Train epoch 6 [58000/60000  (97%)]\t3.460819\n",
      "Train epoch 7 [0/60000  (0%)]\t3.558273\n",
      "Train epoch 7 [2000/60000  (3%)]\t3.530753\n",
      "Train epoch 7 [4000/60000  (7%)]\t3.534559\n",
      "Train epoch 7 [6000/60000  (10%)]\t3.511328\n",
      "Train epoch 7 [8000/60000  (13%)]\t3.461610\n",
      "Train epoch 7 [10000/60000  (17%)]\t3.498780\n",
      "Train epoch 7 [12000/60000  (20%)]\t3.521343\n",
      "Train epoch 7 [14000/60000  (23%)]\t3.490268\n",
      "Train epoch 7 [16000/60000  (27%)]\t3.570102\n",
      "Train epoch 7 [18000/60000  (30%)]\t3.452350\n",
      "Train epoch 7 [20000/60000  (33%)]\t3.471019\n",
      "Train epoch 7 [22000/60000  (37%)]\t3.509212\n",
      "Train epoch 7 [24000/60000  (40%)]\t3.550827\n",
      "Train epoch 7 [26000/60000  (43%)]\t3.460142\n",
      "Train epoch 7 [28000/60000  (47%)]\t3.412935\n",
      "Train epoch 7 [30000/60000  (50%)]\t3.555336\n",
      "Train epoch 7 [32000/60000  (53%)]\t3.447945\n",
      "Train epoch 7 [34000/60000  (57%)]\t3.541844\n",
      "Train epoch 7 [36000/60000  (60%)]\t3.433210\n",
      "Train epoch 7 [38000/60000  (63%)]\t3.411726\n",
      "Train epoch 7 [40000/60000  (67%)]\t3.542617\n",
      "Train epoch 7 [42000/60000  (70%)]\t3.489589\n",
      "Train epoch 7 [44000/60000  (73%)]\t3.511413\n",
      "Train epoch 7 [46000/60000  (77%)]\t3.476283\n",
      "Train epoch 7 [48000/60000  (80%)]\t3.524690\n",
      "Train epoch 7 [50000/60000  (83%)]\t3.456434\n",
      "Train epoch 7 [52000/60000  (87%)]\t3.501097\n",
      "Train epoch 7 [54000/60000  (90%)]\t3.495261\n",
      "Train epoch 7 [56000/60000  (93%)]\t3.461987\n",
      "Train epoch 7 [58000/60000  (97%)]\t3.472205\n",
      "Train epoch 8 [0/60000  (0%)]\t3.463054\n",
      "Train epoch 8 [2000/60000  (3%)]\t3.487879\n",
      "Train epoch 8 [4000/60000  (7%)]\t3.547646\n",
      "Train epoch 8 [6000/60000  (10%)]\t3.559049\n",
      "Train epoch 8 [8000/60000  (13%)]\t3.522010\n",
      "Train epoch 8 [10000/60000  (17%)]\t3.626111\n",
      "Train epoch 8 [12000/60000  (20%)]\t3.498136\n",
      "Train epoch 8 [14000/60000  (23%)]\t3.470666\n",
      "Train epoch 8 [16000/60000  (27%)]\t3.452973\n",
      "Train epoch 8 [18000/60000  (30%)]\t3.597898\n",
      "Train epoch 8 [20000/60000  (33%)]\t3.504433\n",
      "Train epoch 8 [22000/60000  (37%)]\t3.519520\n",
      "Train epoch 8 [24000/60000  (40%)]\t3.532318\n",
      "Train epoch 8 [26000/60000  (43%)]\t3.415641\n",
      "Train epoch 8 [28000/60000  (47%)]\t3.499849\n",
      "Train epoch 8 [30000/60000  (50%)]\t3.532019\n",
      "Train epoch 8 [32000/60000  (53%)]\t3.586474\n",
      "Train epoch 8 [34000/60000  (57%)]\t3.501120\n",
      "Train epoch 8 [36000/60000  (60%)]\t3.499736\n",
      "Train epoch 8 [38000/60000  (63%)]\t3.511170\n",
      "Train epoch 8 [40000/60000  (67%)]\t3.463367\n",
      "Train epoch 8 [42000/60000  (70%)]\t3.619897\n",
      "Train epoch 8 [44000/60000  (73%)]\t3.569708\n",
      "Train epoch 8 [46000/60000  (77%)]\t3.567887\n",
      "Train epoch 8 [48000/60000  (80%)]\t3.500793\n",
      "Train epoch 8 [50000/60000  (83%)]\t3.520799\n",
      "Train epoch 8 [52000/60000  (87%)]\t3.442320\n",
      "Train epoch 8 [54000/60000  (90%)]\t3.487577\n",
      "Train epoch 8 [56000/60000  (93%)]\t3.491879\n",
      "Train epoch 8 [58000/60000  (97%)]\t3.438391\n",
      "Train epoch 9 [0/60000  (0%)]\t3.470717\n",
      "Train epoch 9 [2000/60000  (3%)]\t3.515579\n",
      "Train epoch 9 [4000/60000  (7%)]\t3.463841\n",
      "Train epoch 9 [6000/60000  (10%)]\t3.525736\n",
      "Train epoch 9 [8000/60000  (13%)]\t3.576477\n",
      "Train epoch 9 [10000/60000  (17%)]\t3.487942\n",
      "Train epoch 9 [12000/60000  (20%)]\t3.513195\n",
      "Train epoch 9 [14000/60000  (23%)]\t3.510077\n",
      "Train epoch 9 [16000/60000  (27%)]\t3.489949\n",
      "Train epoch 9 [18000/60000  (30%)]\t3.476250\n",
      "Train epoch 9 [20000/60000  (33%)]\t3.491427\n",
      "Train epoch 9 [22000/60000  (37%)]\t3.578024\n",
      "Train epoch 9 [24000/60000  (40%)]\t3.450643\n",
      "Train epoch 9 [26000/60000  (43%)]\t3.550076\n",
      "Train epoch 9 [28000/60000  (47%)]\t3.532013\n",
      "Train epoch 9 [30000/60000  (50%)]\t3.538968\n",
      "Train epoch 9 [32000/60000  (53%)]\t3.514266\n",
      "Train epoch 9 [34000/60000  (57%)]\t3.557147\n",
      "Train epoch 9 [36000/60000  (60%)]\t3.502128\n",
      "Train epoch 9 [38000/60000  (63%)]\t3.528508\n",
      "Train epoch 9 [40000/60000  (67%)]\t3.574634\n",
      "Train epoch 9 [42000/60000  (70%)]\t3.497647\n",
      "Train epoch 9 [44000/60000  (73%)]\t3.458272\n",
      "Train epoch 9 [46000/60000  (77%)]\t3.498328\n",
      "Train epoch 9 [48000/60000  (80%)]\t3.466253\n",
      "Train epoch 9 [50000/60000  (83%)]\t3.471276\n",
      "Train epoch 9 [52000/60000  (87%)]\t3.419341\n",
      "Train epoch 9 [54000/60000  (90%)]\t3.492447\n",
      "Train epoch 9 [56000/60000  (93%)]\t3.500568\n",
      "Train epoch 9 [58000/60000  (97%)]\t3.471319\n",
      "Train epoch 10 [0/60000  (0%)]\t3.521204\n",
      "Train epoch 10 [2000/60000  (3%)]\t3.548332\n",
      "Train epoch 10 [4000/60000  (7%)]\t3.482257\n",
      "Train epoch 10 [6000/60000  (10%)]\t3.463850\n",
      "Train epoch 10 [8000/60000  (13%)]\t3.547744\n",
      "Train epoch 10 [10000/60000  (17%)]\t3.462566\n",
      "Train epoch 10 [12000/60000  (20%)]\t3.442748\n",
      "Train epoch 10 [14000/60000  (23%)]\t3.461954\n",
      "Train epoch 10 [16000/60000  (27%)]\t3.511696\n",
      "Train epoch 10 [18000/60000  (30%)]\t3.476096\n",
      "Train epoch 10 [20000/60000  (33%)]\t3.468074\n",
      "Train epoch 10 [22000/60000  (37%)]\t3.549490\n",
      "Train epoch 10 [24000/60000  (40%)]\t3.512315\n",
      "Train epoch 10 [26000/60000  (43%)]\t3.405269\n",
      "Train epoch 10 [28000/60000  (47%)]\t3.448915\n",
      "Train epoch 10 [30000/60000  (50%)]\t3.523758\n",
      "Train epoch 10 [32000/60000  (53%)]\t3.431354\n",
      "Train epoch 10 [34000/60000  (57%)]\t3.388673\n",
      "Train epoch 10 [36000/60000  (60%)]\t3.412871\n",
      "Train epoch 10 [38000/60000  (63%)]\t3.448826\n",
      "Train epoch 10 [40000/60000  (67%)]\t3.491262\n",
      "Train epoch 10 [42000/60000  (70%)]\t3.521966\n",
      "Train epoch 10 [44000/60000  (73%)]\t3.492238\n",
      "Train epoch 10 [46000/60000  (77%)]\t3.467353\n",
      "Train epoch 10 [48000/60000  (80%)]\t3.456881\n",
      "Train epoch 10 [50000/60000  (83%)]\t3.513331\n",
      "Train epoch 10 [52000/60000  (87%)]\t3.558480\n",
      "Train epoch 10 [54000/60000  (90%)]\t3.470810\n",
      "Train epoch 10 [56000/60000  (93%)]\t3.440755\n",
      "Train epoch 10 [58000/60000  (97%)]\t3.513479\n"
     ]
    }
   ],
   "source": [
    "for epoch in range(1, 11):\n",
    "    train(epoch)"
   ],
   "metadata": {
    "collapsed": false,
    "ExecuteTime": {
     "end_time": "2024-03-28T10:15:52.031401Z",
     "start_time": "2024-03-28T10:13:51.369370Z"
    }
   },
   "id": "5f20bd76c2a47f6e"
  },
  {
   "cell_type": "code",
   "execution_count": 299,
   "outputs": [
    {
     "name": "stdout",
     "output_type": "stream",
     "text": [
      "Prediction: 6\n"
     ]
    },
    {
     "name": "stderr",
     "output_type": "stream",
     "text": [
      "/var/folders/cn/pbbb97x54y9cd1y670hyldq00000gn/T/ipykernel_48796/114032758.py:24: UserWarning: Implicit dimension choice for softmax has been deprecated. Change the call to include dim=X as an argument.\n",
      "  return F.softmax(x)\n"
     ]
    },
    {
     "data": {
      "text/plain": "<Figure size 640x480 with 1 Axes>",
      "image/png": "[encoded data removed]"
     },
     "metadata": {},
     "output_type": "display_data"
    }
   ],
   "source": [
    "import matplotlib.pyplot as plt\n",
    "\n",
    "model.eval()\n",
    "data, target = test_data[100]             \n",
    "\n",
    "# change * in test_data[*] on any numer in range 0 - 999\n",
    "data = data.unsqueeze(0).to(device)\n",
    "output = model(data)\n",
    "prediction = output.argmax(dim=1, keepdim=True).item()\n",
    "print(f'Prediction: {prediction}')\n",
    "\n",
    "image = data.squeeze(0).squeeze(0).cpu().numpy()\n",
    "\n",
    "plt.imshow(image, cmap='grey')\n",
    "plt.show()"
   ],
   "metadata": {
    "collapsed": false,
    "ExecuteTime": {
     "end_time": "2024-03-28T10:19:01.440598Z",
     "start_time": "2024-03-28T10:19:01.368367Z"
    }
   },
   "id": "5e8cb69ede2a136"
  },
  {
   "cell_type": "markdown",
   "source": [],
   "metadata": {
    "collapsed": false
   },
   "id": "18b9c2dbeb002751"
  }
 ],
 "metadata": {
  "kernelspec": {
   "display_name": "Python 3",
   "language": "python",
   "name": "python3"
  },
  "language_info": {
   "codemirror_mode": {
    "name": "ipython",
    "version": 2
   },
   "file_extension": ".py",
   "mimetype": "text/x-python",
   "name": "python",
   "nbconvert_exporter": "python",
   "pygments_lexer": "ipython2",
   "version": "2.7.6"
  }
 },
 "nbformat": 4,
 "nbformat_minor": 5
}
